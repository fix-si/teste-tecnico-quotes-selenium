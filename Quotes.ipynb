{
 "cells": [
  {
   "cell_type": "markdown",
   "id": "0233b199",
   "metadata": {},
   "source": [
    "###  Importação das bibliotecas"
   ]
  },
  {
   "cell_type": "code",
   "execution_count": 1,
   "id": "42bc01e3",
   "metadata": {},
   "outputs": [],
   "source": [
    "from selenium import webdriver\n",
    "from selenium.webdriver.common.by import By\n",
    "import time\n",
    "import json"
   ]
  },
  {
   "cell_type": "markdown",
   "id": "1fbf9724",
   "metadata": {},
   "source": [
    "### Procura pela div que possui a classe como quote"
   ]
  },
  {
   "cell_type": "code",
   "execution_count": 3,
   "id": "ad27498d",
   "metadata": {},
   "outputs": [],
   "source": [
    "def find_the_list_of_quotes(browser):\n",
    "    while len(browser.find_elements(By.CLASS_NAME, \"quote\")) == 0:\n",
    "        time.sleep(2)"
   ]
  },
  {
   "cell_type": "markdown",
   "id": "2bb775cb",
   "metadata": {},
   "source": [
    "### Processa todas as divs que possuem a classe quote"
   ]
  },
  {
   "cell_type": "code",
   "execution_count": 4,
   "id": "03774945",
   "metadata": {},
   "outputs": [],
   "source": [
    "def process_elements(elements, quotes):\n",
    "    for element in elements:\n",
    "        quotes.append(get_quote(element))"
   ]
  },
  {
   "cell_type": "markdown",
   "id": "1f7de6e1",
   "metadata": {},
   "source": [
    "### Procura pelos elementos das citações  tais como autor, link sobre o autor, frase e as tags "
   ]
  },
  {
   "cell_type": "code",
   "execution_count": 2,
   "id": "8ce9b3fb",
   "metadata": {},
   "outputs": [],
   "source": [
    "def get_quote(element):\n",
    "    quote_dict = {'author': {'name': '', 'url': ''}}\n",
    "    quote_dict['author']['name'] = element.find_element(By.CLASS_NAME, \"author\").text\n",
    "    quote_dict['author']['url'] = element.find_element(By.LINK_TEXT,'(about)').get_attribute('href')\n",
    "    quote_dict['quote'] = element.find_element(By.CLASS_NAME, \"text\").text.replace(\"“\", \"\").replace(\"”\", \"\")\n",
    "    element_tags = element.find_element(By.CLASS_NAME, \"tags\")\n",
    "    element_tag = element_tags.find_elements(By.CLASS_NAME, \"tag\")\n",
    "    quote_dict['author']['name'].encode(\"utf-8\")\n",
    "    quote_dict['quote'].encode(\"utf-8\")\n",
    "    tags = []\n",
    "    for tag in element_tag:\n",
    "        tags.append(tag.text)\n",
    "    quote_dict['tags'] = tags\n",
    "    return quote_dict"
   ]
  },
  {
   "cell_type": "markdown",
   "id": "d2708fc9",
   "metadata": {},
   "source": [
    "### Pega o XPATH do botão Next. Na primeira página como não tem o botão Previous o XPATH é diferente das demais páginas"
   ]
  },
  {
   "cell_type": "code",
   "execution_count": 5,
   "id": "88ff6414",
   "metadata": {},
   "outputs": [],
   "source": [
    "def get_xpath_buttom(page):\n",
    "    if page == 1:\n",
    "        return \"/html/body/div/div[2]/div[1]/nav/ul/li/a\"\n",
    "    else:\n",
    "        return \"/html/body/div/div[2]/div[1]/nav/ul/li[2]/a\""
   ]
  },
  {
   "cell_type": "markdown",
   "id": "6b999663",
   "metadata": {},
   "source": [
    "### Procura pelo botão Next. Caso não ache na primeira vez, será verificado novamente depois de 5 secondos. "
   ]
  },
  {
   "cell_type": "code",
   "execution_count": 6,
   "id": "52812876",
   "metadata": {},
   "outputs": [],
   "source": [
    "def find_buttom(xpath_buttom, browser):\n",
    "    if len(browser.find_elements(By.XPATH, xpath_buttom)) == 0:\n",
    "        time.sleep(5)\n",
    "    return True if len(browser.find_elements(By.XPATH, xpath_buttom)) == 1 else False"
   ]
  },
  {
   "cell_type": "markdown",
   "id": "07733db8",
   "metadata": {},
   "source": [
    "### Escrever todas as citações detectadas em um arquivo JSON(JavaScript Object Notation)"
   ]
  },
  {
   "cell_type": "code",
   "execution_count": 7,
   "id": "05cf2e66",
   "metadata": {},
   "outputs": [],
   "source": [
    "def write_in_json_file(quotes):\n",
    "    with open(\"./all_quotes.json\", \"w\") as outfile:\n",
    "        json.dump(quotes, outfile, indent=5)"
   ]
  },
  {
   "cell_type": "markdown",
   "id": "36059860",
   "metadata": {},
   "source": [
    "### Função Main"
   ]
  },
  {
   "cell_type": "code",
   "execution_count": 8,
   "id": "8bc18911",
   "metadata": {},
   "outputs": [],
   "source": [
    "def main():\n",
    "    browser = webdriver.Chrome()\n",
    "    browser.get(\"http://quotes.toscrape.com\")\n",
    "    \n",
    "    page = 1\n",
    "    quotes = []\n",
    "    \n",
    "    while True:\n",
    "        find_the_list_of_quotes(browser)\n",
    "        elements = browser.find_elements(By.CLASS_NAME, \"quote\")\n",
    "        process_elements(elements, quotes)\n",
    "        xpath_buttom = get_xpath_buttom(page)\n",
    "        if find_buttom(xpath_buttom,browser):\n",
    "            browser.find_element(By.XPATH, xpath_buttom).click()\n",
    "            page += 1\n",
    "            time.sleep(5)\n",
    "        else:\n",
    "            break\n",
    "    \n",
    "    write_in_json_file(quotes)"
   ]
  },
  {
   "cell_type": "markdown",
   "id": "fd0923e2",
   "metadata": {},
   "source": [
    "### Execução do código"
   ]
  },
  {
   "cell_type": "code",
   "execution_count": 9,
   "id": "38f1a43e",
   "metadata": {},
   "outputs": [],
   "source": [
    "main()"
   ]
  }
 ],
 "metadata": {
  "kernelspec": {
   "display_name": "Python 3 (ipykernel)",
   "language": "python",
   "name": "python3"
  },
  "language_info": {
   "codemirror_mode": {
    "name": "ipython",
    "version": 3
   },
   "file_extension": ".py",
   "mimetype": "text/x-python",
   "name": "python",
   "nbconvert_exporter": "python",
   "pygments_lexer": "ipython3",
   "version": "3.9.7"
  }
 },
 "nbformat": 4,
 "nbformat_minor": 5
}
